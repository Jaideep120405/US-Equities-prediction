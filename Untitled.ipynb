{
 "cells": [
  {
   "cell_type": "code",
   "execution_count": 1,
   "id": "4d65c5f6",
   "metadata": {},
   "outputs": [
    {
     "name": "stdout",
     "output_type": "stream",
     "text": [
      "Requirement already satisfied: appdirs==1.4.4 in c:\\users\\jaide\\anaconda3\\lib\\site-packages (from -r requirements.txt (line 1)) (1.4.4)\n",
      "Requirement already satisfied: beautifulsoup4==4.12.2 in c:\\users\\jaide\\anaconda3\\lib\\site-packages (from -r requirements.txt (line 2)) (4.12.2)\n",
      "Collecting bottleneck==1.3.5\n",
      "  Downloading Bottleneck-1.3.5-cp39-cp39-win_amd64.whl (109 kB)\n",
      "Collecting brotli==1.0.9\n",
      "  Downloading Brotli-1.0.9-cp39-cp39-win_amd64.whl (383 kB)\n",
      "Collecting certifi==2023.7.22\n",
      "  Downloading certifi-2023.7.22-py3-none-any.whl (158 kB)\n",
      "Collecting charset-normalizer==3.3.2\n",
      "  Downloading charset_normalizer-3.3.2-cp39-cp39-win_amd64.whl (100 kB)\n",
      "Collecting click==8.1.7\n",
      "  Downloading click-8.1.7-py3-none-any.whl (97 kB)\n",
      "Collecting colorama==0.4.6\n",
      "  Downloading colorama-0.4.6-py2.py3-none-any.whl (25 kB)\n",
      "Collecting dash==2.9.0\n",
      "  Downloading dash-2.9.0-py3-none-any.whl (10.2 MB)\n",
      "Requirement already satisfied: dash-bootstrap-components==1.5.0 in c:\\users\\jaide\\anaconda3\\lib\\site-packages (from -r requirements.txt (line 10)) (1.5.0)\n",
      "Requirement already satisfied: dash-core-components==2.0.0 in c:\\users\\jaide\\anaconda3\\lib\\site-packages (from -r requirements.txt (line 11)) (2.0.0)\n",
      "Requirement already satisfied: dash-html-components==2.0.0 in c:\\users\\jaide\\anaconda3\\lib\\site-packages (from -r requirements.txt (line 12)) (2.0.0)\n",
      "Requirement already satisfied: dash-table==5.0.0 in c:\\users\\jaide\\anaconda3\\lib\\site-packages (from -r requirements.txt (line 13)) (5.0.0)\n",
      "Collecting flask==2.2.2\n",
      "  Downloading Flask-2.2.2-py3-none-any.whl (101 kB)\n",
      "Collecting flask-compress==1.13\n",
      "  Downloading Flask_Compress-1.13-py3-none-any.whl (7.9 kB)\n",
      "Requirement already satisfied: frozendict==2.3.8 in c:\\users\\jaide\\anaconda3\\lib\\site-packages (from -r requirements.txt (line 16)) (2.3.8)\n",
      "Requirement already satisfied: html5lib==1.1 in c:\\users\\jaide\\anaconda3\\lib\\site-packages (from -r requirements.txt (line 17)) (1.1)\n",
      "Collecting idna==3.4\n",
      "  Downloading idna-3.4-py3-none-any.whl (61 kB)\n",
      "Requirement already satisfied: itsdangerous==2.0.1 in c:\\users\\jaide\\anaconda3\\lib\\site-packages (from -r requirements.txt (line 19)) (2.0.1)\n",
      "Collecting jinja2==3.1.2\n",
      "  Downloading Jinja2-3.1.2-py3-none-any.whl (133 kB)\n",
      "Requirement already satisfied: joblib==1.2.0 in c:\\users\\jaide\\anaconda3\\lib\\site-packages (from -r requirements.txt (line 21)) (1.2.0)\n",
      "Requirement already satisfied: lxml==4.9.3 in c:\\users\\jaide\\anaconda3\\lib\\site-packages (from -r requirements.txt (line 22)) (4.9.3)\n",
      "Collecting markupsafe==2.1.1\n",
      "  Downloading MarkupSafe-2.1.1-cp39-cp39-win_amd64.whl (17 kB)\n",
      "Requirement already satisfied: multitasking==0.0.11 in c:\\users\\jaide\\anaconda3\\lib\\site-packages (from -r requirements.txt (line 24)) (0.0.11)\n",
      "Collecting numexpr==2.8.7\n",
      "  Downloading numexpr-2.8.7-cp39-cp39-win_amd64.whl (95 kB)\n",
      "Collecting numpy==1.26.0\n",
      "  Downloading numpy-1.26.0-cp39-cp39-win_amd64.whl (15.8 MB)\n",
      "Collecting packaging==23.2\n",
      "  Downloading packaging-23.2-py3-none-any.whl (53 kB)\n",
      "Collecting pandas==2.1.1\n",
      "  Downloading pandas-2.1.1-cp39-cp39-win_amd64.whl (10.8 MB)\n",
      "Requirement already satisfied: peewee==3.17.0 in c:\\users\\jaide\\anaconda3\\lib\\site-packages (from -r requirements.txt (line 29)) (3.17.0)\n",
      "Collecting plotly==5.17.0\n",
      "  Downloading plotly-5.17.0-py2.py3-none-any.whl (15.6 MB)\n",
      "Requirement already satisfied: pytz==2023.3.post1 in c:\\users\\jaide\\anaconda3\\lib\\site-packages (from -r requirements.txt (line 31)) (2023.3.post1)\n",
      "Requirement already satisfied: requests==2.31.0 in c:\\users\\jaide\\anaconda3\\lib\\site-packages (from -r requirements.txt (line 32)) (2.31.0)\n",
      "Note: you may need to restart the kernel to use updated packages.Requirement already satisfied: six==1.16.0 in c:\\users\\jaide\\anaconda3\\lib\\site-packages (from -r requirements.txt (line 33)) (1.16.0)\n",
      "\n",
      "Collecting soupsieve==2.5\n",
      "  Downloading soupsieve-2.5-py3-none-any.whl (36 kB)\n",
      "Collecting tqdm==4.66.1\n",
      "  Downloading tqdm-4.66.1-py3-none-any.whl (78 kB)\n",
      "Requirement already satisfied: tzdata==2023.3 in c:\\users\\jaide\\anaconda3\\lib\\site-packages (from -r requirements.txt (line 36)) (2023.3)\n",
      "Collecting urllib3==2.0.7\n",
      "  Downloading urllib3-2.0.7-py3-none-any.whl (124 kB)"
     ]
    },
    {
     "name": "stderr",
     "output_type": "stream",
     "text": [
      "ERROR: Could not install packages due to an OSError: [WinError 5] Access is denied: 'C:\\\\Users\\\\jaide\\\\anaconda3\\\\Lib\\\\site-packages\\\\~-mpy\\\\.libs\\\\libopenblas64__v0.3.21-gcc_10_3_0.dll'\n",
      "Consider using the `--user` option or check the permissions.\n",
      "\n"
     ]
    },
    {
     "name": "stdout",
     "output_type": "stream",
     "text": [
      "\n",
      "Requirement already satisfied: webencodings==0.5.1 in c:\\users\\jaide\\anaconda3\\lib\\site-packages (from -r requirements.txt (line 38)) (0.5.1)\n",
      "Collecting werkzeug==2.2.3\n",
      "  Downloading Werkzeug-2.2.3-py3-none-any.whl (233 kB)\n",
      "Requirement already satisfied: yfinance==0.2.31 in c:\\users\\jaide\\anaconda3\\lib\\site-packages (from -r requirements.txt (line 40)) (0.2.31)\n",
      "Requirement already satisfied: pandas-ta==0.3.14b0 in c:\\users\\jaide\\anaconda3\\lib\\site-packages (from -r requirements.txt (line 41)) (0.3.14b0)\n",
      "Requirement already satisfied: loess==2.1.2 in c:\\users\\jaide\\anaconda3\\lib\\site-packages (from -r requirements.txt (line 42)) (2.1.2)\n",
      "Requirement already satisfied: finta==1.3 in c:\\users\\jaide\\anaconda3\\lib\\site-packages (from -r requirements.txt (line 43)) (1.3)\n",
      "Requirement already satisfied: importlib-metadata>=3.6.0 in c:\\users\\jaide\\anaconda3\\lib\\site-packages (from flask==2.2.2->-r requirements.txt (line 14)) (4.8.1)\n",
      "Requirement already satisfied: python-dateutil>=2.8.2 in c:\\users\\jaide\\anaconda3\\lib\\site-packages (from pandas==2.1.1->-r requirements.txt (line 28)) (2.8.2)\n",
      "Requirement already satisfied: tenacity>=6.2.0 in c:\\users\\jaide\\anaconda3\\lib\\site-packages (from plotly==5.17.0->-r requirements.txt (line 30)) (8.1.0)\n",
      "Requirement already satisfied: plotbin in c:\\users\\jaide\\anaconda3\\lib\\site-packages (from loess==2.1.2->-r requirements.txt (line 42)) (3.1.5)\n",
      "Requirement already satisfied: matplotlib in c:\\users\\jaide\\anaconda3\\lib\\site-packages (from loess==2.1.2->-r requirements.txt (line 42)) (3.4.3)\n",
      "Requirement already satisfied: zipp>=0.5 in c:\\users\\jaide\\anaconda3\\lib\\site-packages (from importlib-metadata>=3.6.0->flask==2.2.2->-r requirements.txt (line 14)) (3.6.0)\n",
      "Requirement already satisfied: cycler>=0.10 in c:\\users\\jaide\\anaconda3\\lib\\site-packages (from matplotlib->loess==2.1.2->-r requirements.txt (line 42)) (0.10.0)\n",
      "Requirement already satisfied: kiwisolver>=1.0.1 in c:\\users\\jaide\\anaconda3\\lib\\site-packages (from matplotlib->loess==2.1.2->-r requirements.txt (line 42)) (1.3.1)\n",
      "Requirement already satisfied: pyparsing>=2.2.1 in c:\\users\\jaide\\anaconda3\\lib\\site-packages (from matplotlib->loess==2.1.2->-r requirements.txt (line 42)) (3.0.4)\n",
      "Requirement already satisfied: pillow>=6.2.0 in c:\\users\\jaide\\anaconda3\\lib\\site-packages (from matplotlib->loess==2.1.2->-r requirements.txt (line 42)) (9.2.0)\n",
      "Requirement already satisfied: scipy in c:\\users\\jaide\\anaconda3\\lib\\site-packages (from plotbin->loess==2.1.2->-r requirements.txt (line 42)) (1.8.1)\n",
      "Collecting scipy\n",
      "  Downloading scipy-1.11.4-cp39-cp39-win_amd64.whl (44.3 MB)\n",
      "Installing collected packages: markupsafe, colorama, werkzeug, packaging, numpy, jinja2, click, urllib3, soupsieve, scipy, plotly, idna, flask, charset-normalizer, certifi, pandas, dash, brotli, tqdm, numexpr, flask-compress, bottleneck\n",
      "  Attempting uninstall: markupsafe\n",
      "    Found existing installation: MarkupSafe 1.1.1\n",
      "    Uninstalling MarkupSafe-1.1.1:\n",
      "      Successfully uninstalled MarkupSafe-1.1.1\n",
      "  Attempting uninstall: colorama\n",
      "    Found existing installation: colorama 0.4.4\n",
      "    Uninstalling colorama-0.4.4:\n",
      "      Successfully uninstalled colorama-0.4.4\n",
      "  Attempting uninstall: werkzeug\n",
      "    Found existing installation: Werkzeug 2.0.2\n",
      "    Uninstalling Werkzeug-2.0.2:\n",
      "      Successfully uninstalled Werkzeug-2.0.2\n",
      "  Attempting uninstall: packaging\n",
      "    Found existing installation: packaging 21.0\n",
      "    Uninstalling packaging-21.0:\n",
      "      Successfully uninstalled packaging-21.0\n",
      "  Attempting uninstall: numpy\n",
      "    Found existing installation: numpy 1.24.3\n",
      "    Uninstalling numpy-1.24.3:\n",
      "      Successfully uninstalled numpy-1.24.3\n"
     ]
    }
   ],
   "source": [
    "pip install -r requirements.txt"
   ]
  },
  {
   "cell_type": "code",
   "execution_count": 2,
   "id": "aa0169d4",
   "metadata": {},
   "outputs": [],
   "source": [
    "import numpy"
   ]
  },
  {
   "cell_type": "code",
   "execution_count": 6,
   "id": "f52cd7d8",
   "metadata": {},
   "outputs": [
    {
     "name": "stdout",
     "output_type": "stream",
     "text": [
      "Collecting numpy==1.22.4\n",
      "  Downloading numpy-1.22.4-cp39-cp39-win_amd64.whl (14.7 MB)\n",
      "Installing collected packages: numpy\n",
      "  Attempting uninstall: numpy\n",
      "    Found existing installation: numpy 1.26.0\n",
      "    Uninstalling numpy-1.26.0:\n",
      "      Successfully uninstalled numpy-1.26.0\n",
      "Note: you may need to restart the kernel to use updated packages.\n"
     ]
    },
    {
     "name": "stderr",
     "output_type": "stream",
     "text": [
      "ERROR: Could not install packages due to an OSError: [WinError 5] Access is denied: 'C:\\\\Users\\\\jaide\\\\anaconda3\\\\Lib\\\\site-packages\\\\~umpy.libs\\\\libopenblas64__v0.3.23-293-gc2f4bdbb-gcc_10_3_0-65e29aac85b9409a6008e2dc84b1cc09.dll'\n",
      "Consider using the `--user` option or check the permissions.\n",
      "\n"
     ]
    }
   ],
   "source": [
    "pip install numpy==1.22.4"
   ]
  },
  {
   "cell_type": "code",
   "execution_count": 8,
   "id": "14e2dab0",
   "metadata": {},
   "outputs": [
    {
     "name": "stdout",
     "output_type": "stream",
     "text": [
      "999\n"
     ]
    }
   ],
   "source": [
    "print(999)"
   ]
  }
 ],
 "metadata": {
  "kernelspec": {
   "display_name": "Python 3 (ipykernel)",
   "language": "python",
   "name": "python3"
  },
  "language_info": {
   "codemirror_mode": {
    "name": "ipython",
    "version": 3
   },
   "file_extension": ".py",
   "mimetype": "text/x-python",
   "name": "python",
   "nbconvert_exporter": "python",
   "pygments_lexer": "ipython3",
   "version": "3.9.7"
  }
 },
 "nbformat": 4,
 "nbformat_minor": 5
}
